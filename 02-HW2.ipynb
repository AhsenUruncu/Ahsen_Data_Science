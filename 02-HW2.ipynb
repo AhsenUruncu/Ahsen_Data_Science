{
 "cells": [
  {
   "cell_type": "markdown",
   "id": "db2b89db-2084-4419-a6a5-a25cd01d68a2",
   "metadata": {},
   "source": [
    "Q1: In the code , there are some integers and floats declared. Print the following in order:\n",
    "\n",
    "- The sum of the values (addition)\n",
    "- 0 minus the sum of the values\n",
    "- The product of the values (multiplication)\n",
    "- The sum of the values divided by the product of the values\n",
    "Hint: You are free to declare additional variables if it's helpful."
   ]
  },
  {
   "cell_type": "code",
   "execution_count": 2,
   "id": "2f3b37af-feeb-4163-8c9d-e0f6925373e3",
   "metadata": {},
   "outputs": [
    {
     "name": "stdout",
     "output_type": "stream",
     "text": [
      "4.5\n",
      "-4.5\n",
      "2.0\n",
      "2.0\n"
     ]
    }
   ],
   "source": [
    "a, b, c = 2, 2, 0.5\n",
    "the_sum_of_the_value = a+b+c\n",
    "print(the_sum_of_the_value)\n",
    "diffference = 0 -  the_sum_of_the_value \n",
    "print(diffference)\n",
    "the_product_of_the_value = a*b*c\n",
    "print(the_product_of_the_value)\n",
    "division_result = the_product_of_the_value \n",
    "print(division_result)"
   ]
  },
  {
   "cell_type": "markdown",
   "id": "e581f64f-0303-42f2-a5b8-c7c8a0006e4c",
   "metadata": {},
   "source": [
    "Q2: You are given three variables, a, b, and c. Print the following numbers in order:\n",
    "- The product of a and b, floor divided by c\n",
    "- The remainder of the product of a and b divided by c\n",
    "- The result of raising a to the power of b.\n",
    "- The result of raising b to the power of c."
   ]
  },
  {
   "cell_type": "code",
   "execution_count": 1,
   "id": "0c8da00e-0f25-4027-97b4-b3c388ee3b99",
   "metadata": {},
   "outputs": [
    {
     "name": "stdout",
     "output_type": "stream",
     "text": [
      "3\n",
      "3\n"
     ]
    }
   ],
   "source": [
    "a, b, c = 2, 8, 5\n",
    "product_floor_division = (a*b) // c\n",
    "print(product_floor_division)\n",
    "remainder_of_the_product = (a*b) //c\n",
    "print(remainder_of_the_product)\n",
    "power_a_to_b = a**b\n",
    "power_b_to_c = b**c"
   ]
  },
  {
   "cell_type": "markdown",
   "id": "ae149ade-153c-49bd-aea2-32694a528d39",
   "metadata": {},
   "source": [
    "Q3: In the code  there is a variable called number. Use the shorthand operators to:\n",
    "\n",
    "- Add 5 to number and print the result.\n",
    "- Subtract 2 from number and print the result.\n",
    "- Add number to itself and print the result. (Yes, you can add a variable to itself.)"
   ]
  },
  {
   "cell_type": "code",
   "execution_count": 6,
   "id": "5fc06128-3c01-4ed6-bcff-04864dd31329",
   "metadata": {},
   "outputs": [
    {
     "name": "stdout",
     "output_type": "stream",
     "text": [
      "5\n",
      "3\n",
      "13\n"
     ]
    }
   ],
   "source": [
    "number = 0\n",
    "result = 0 + 5\n",
    "print(result)\n",
    "subtract = result - 2\n",
    "print(subtract)\n",
    "add_number = result + 8\n",
    "print(add_number)\n",
    "\n"
   ]
  },
  {
   "cell_type": "markdown",
   "id": "4384e6f0-e492-4def-9c94-a6c242e8dec2",
   "metadata": {},
   "source": [
    "Q4: In the code, there are 4 variables, a, b, c, and d. Print the following:\n",
    "- The logic OR of a and b.\n",
    "- The logic OR of b and c.\n",
    "- The logic OR of c and d.\n",
    "- The logic OR of a, b, c, and d."
   ]
  },
  {
   "cell_type": "code",
   "execution_count": 3,
   "id": "8a48b675-5cf6-4a0a-a026-0b6ed1fca06b",
   "metadata": {},
   "outputs": [
    {
     "name": "stdout",
     "output_type": "stream",
     "text": [
      "False\n",
      "True\n",
      "True\n",
      "True\n"
     ]
    }
   ],
   "source": [
    "a, b, c, d = False, False, True, True\n",
    "\n",
    "or_a_b = a or b\n",
    "print(or_a_b)\n",
    "or_c_d = c or d\n",
    "print(or_c_d)\n",
    "or_b_c = b or c\n",
    "print(or_b_c)\n",
    "or_all = a or b or c or d\n",
    "print(or_all)\n",
    "\n",
    "\n",
    "        "
   ]
  },
  {
   "cell_type": "markdown",
   "id": "815fb72f-1688-4f9d-a7fd-060e2721643a",
   "metadata": {},
   "source": [
    "Q5: In the code, there are 4 variables, a, b, c, and d. Print the following:\n",
    "- The logical AND of a and b.\n",
    "- The logical AND of b and c.\n",
    "- The logical AND of c and d.\n",
    "- The logical AND of a, b, c, and d.\n"
   ]
  },
  {
   "cell_type": "code",
   "execution_count": 6,
   "id": "fe8ecc83-76b7-4277-af73-82629977dad0",
   "metadata": {},
   "outputs": [
    {
     "name": "stdout",
     "output_type": "stream",
     "text": [
      "False\n",
      "False\n",
      "True\n",
      "False\n"
     ]
    }
   ],
   "source": [
    "a, b, c, d = False, False, True, True\n",
    "and_a_b = a and b\n",
    "print(and_a_b)\n",
    "and_b_c = b and c\n",
    "print(and_b_c)\n",
    "and_c_d = c and d\n",
    "print(and_c_d)\n",
    "and_all = a and b and c and d\n",
    "print(and_all)\n"
   ]
  },
  {
   "cell_type": "markdown",
   "id": "fdee7bc0-a43e-4fcf-9285-313706dda67b",
   "metadata": {},
   "source": [
    "Q6: In the code, there are 3 variables, a, b, and c. Print the following:\n",
    "\n",
    "- The negation of a.\n",
    "- The negation of c.\n",
    "- The negation of the logical AND of a and b.\n",
    "- The negation of the logical OR of b and c."
   ]
  },
  {
   "cell_type": "code",
   "execution_count": 7,
   "id": "750ffa08-f8ad-4385-9b21-7a0eeb5e395b",
   "metadata": {},
   "outputs": [
    {
     "name": "stdout",
     "output_type": "stream",
     "text": [
      "True\n",
      "False\n",
      "True\n",
      "False\n"
     ]
    }
   ],
   "source": [
    "a, b, c = False, False, True\n",
    "negation_a = not a\n",
    "print(negation_a)\n",
    "negation_c = not c\n",
    "print(negation_c)\n",
    "negation_and_a_b = not (a and b)\n",
    "print(negation_and_a_b)\n",
    "negation_or_b_c = not (b or c)\n",
    "print(negation_or_b_c)\n"
   ]
  }
 ],
 "metadata": {
  "kernelspec": {
   "display_name": "Python 3",
   "language": "python",
   "name": "python3"
  },
  "language_info": {
   "codemirror_mode": {
    "name": "ipython",
    "version": 3
   },
   "file_extension": ".py",
   "mimetype": "text/x-python",
   "name": "python",
   "nbconvert_exporter": "python",
   "pygments_lexer": "ipython3",
   "version": "3.10.0"
  }
 },
 "nbformat": 4,
 "nbformat_minor": 5
}
